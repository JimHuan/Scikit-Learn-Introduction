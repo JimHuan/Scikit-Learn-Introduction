{
 "cells": [
  {
   "cell_type": "markdown",
   "metadata": {},
   "source": [
    "# Machine Learning --*Scikit learning*"
   ]
  },
  {
   "cell_type": "markdown",
   "metadata": {},
   "source": [
    "## LinearRegression\n",
    "LinearRegression is an easy-understanding instance of how sklearn works."
   ]
  },
  {
   "cell_type": "markdown",
   "metadata": {},
   "source": [
    "#### The Scikit-learn Estimator Object\n",
    "Every algorithm is exposed in scikit-learn via an ''Estimator'' object. For instance a linear regression is implemented as so:"
   ]
  },
  {
   "cell_type": "code",
   "execution_count": 1,
   "metadata": {
    "collapsed": true
   },
   "outputs": [],
   "source": [
    "from sklearn.linear_model import LinearRegression as lr"
   ]
  },
  {
   "cell_type": "markdown",
   "metadata": {},
   "source": [
    "**Estimator parameters**: All the parameters of an estimator can be set when it is instantiated, and have suitable default values:"
   ]
  },
  {
   "cell_type": "code",
   "execution_count": 2,
   "metadata": {},
   "outputs": [
    {
     "name": "stdout",
     "output_type": "stream",
     "text": [
      "LinearRegression(copy_X=True, fit_intercept=True, n_jobs=1, normalize=False)\n"
     ]
    }
   ],
   "source": [
    "model = lr()\n",
    "print(model)\n",
    "##如果要查看详细的说明可以使用以下的命令\n",
    "#help(model)"
   ]
  },
  {
   "cell_type": "markdown",
   "metadata": {},
   "source": [
    "**Estimated Model parameters**: When data is *fit* with an estimator, parameters are estimated from the data at hand. All the estimated parameters are attributes of the estimator object ending by an underscore():"
   ]
  },
  {
   "cell_type": "code",
   "execution_count": 3,
   "metadata": {},
   "outputs": [
    {
     "name": "stdout",
     "output_type": "stream",
     "text": [
      "[  0.   1.   2.   3.   4.   5.   6.   7.   8.   9.  10.  11.  12.  13.  14.\n",
      "  15.  16.  17.  18.  19.] [  3.32115121   4.36097225   5.00657092   6.03842885   8.75794974\n",
      "   7.65568807  10.20801341  10.49491681  10.55147374  13.05140492\n",
      "  12.10498661  14.61258757  15.43015426  16.16798446  16.66307108\n",
      "  16.69260627  19.23037172  21.75098802  19.9048166   22.36438347]\n"
     ]
    }
   ],
   "source": [
    "import numpy as np\n",
    "x = np.linspace(0, 19, 20)\n",
    "y = x  + 2 + np.random.normal(loc = 1, size = 20)\n",
    "print(x,y)"
   ]
  },
  {
   "cell_type": "markdown",
   "metadata": {},
   "source": [
    "此时不能直接对x，y进行拟合，还需要将样本x转换成[n_samples,n_features]格式。这里的x为1\\*20,需要变成20\\*1，表示成20个1维的样本，而y则不需要处理"
   ]
  },
  {
   "cell_type": "code",
   "execution_count": 4,
   "metadata": {},
   "outputs": [
    {
     "name": "stdout",
     "output_type": "stream",
     "text": [
      "[[  0.]\n",
      " [  1.]\n",
      " [  2.]\n",
      " [  3.]\n",
      " [  4.]\n",
      " [  5.]\n",
      " [  6.]\n",
      " [  7.]\n",
      " [  8.]\n",
      " [  9.]\n",
      " [ 10.]\n",
      " [ 11.]\n",
      " [ 12.]\n",
      " [ 13.]\n",
      " [ 14.]\n",
      " [ 15.]\n",
      " [ 16.]\n",
      " [ 17.]\n",
      " [ 18.]\n",
      " [ 19.]]\n",
      "[  3.32115121   4.36097225   5.00657092   6.03842885   8.75794974\n",
      "   7.65568807  10.20801341  10.49491681  10.55147374  13.05140492\n",
      "  12.10498661  14.61258757  15.43015426  16.16798446  16.66307108\n",
      "  16.69260627  19.23037172  21.75098802  19.9048166   22.36438347]\n"
     ]
    }
   ],
   "source": [
    "samples = x[:,np.newaxis]\n",
    "labels = y\n",
    "print(samples)\n",
    "print(labels)"
   ]
  },
  {
   "cell_type": "code",
   "execution_count": 5,
   "metadata": {},
   "outputs": [
    {
     "name": "stdout",
     "output_type": "stream",
     "text": [
      "[ 0.97346531]\n",
      "3.47050558718\n",
      "12.6959415985\n"
     ]
    },
    {
     "name": "stderr",
     "output_type": "stream",
     "text": [
      "c:\\users\\jim wang\\appdata\\local\\programs\\python\\python36\\lib\\site-packages\\sklearn\\utils\\deprecation.py:70: DeprecationWarning: Function residues_ is deprecated; ``residues_`` is deprecated and will be removed in 0.19\n",
      "  warnings.warn(msg, category=DeprecationWarning)\n"
     ]
    }
   ],
   "source": [
    "#通过fit函数estimator相关的属性和参数将被计算确定下来\n",
    "model.fit(samples, labels)\n",
    "print(model.coef_)\n",
    "print(model.intercept_)\n",
    "#注意残差属性在更高的版本（0.19)中不可用，报warnings\n",
    "print(model.residues_)"
   ]
  },
  {
   "cell_type": "markdown",
   "metadata": {},
   "source": [
    "我们可以在原有数据上添加一个偏差，然后通过estimator来predict 输出"
   ]
  },
  {
   "cell_type": "code",
   "execution_count": 6,
   "metadata": {},
   "outputs": [
    {
     "name": "stdout",
     "output_type": "stream",
     "text": [
      "[  4.93192224   7.01179422   7.83263908   8.26501222   8.02452835\n",
      "  10.89941464  11.66625549  12.41891811  12.74652654  13.95878963\n",
      "  14.7697604   15.95561038  18.24187513  17.85004749  18.5177056\n",
      "  18.85452799  22.22372468  21.6584752   24.35523035  23.72185663]\n",
      "[  8.27156078  10.29624399  11.09530799  11.51620824  11.28210554\n",
      "  14.0807076   14.82720056  15.55989151  15.87880696  17.05890301\n",
      "  17.84835492  19.00273874  21.22833816  20.84690754  21.49684955\n",
      "  21.82473446  25.10453055  24.55427979  27.17947737  26.56291002]\n"
     ]
    }
   ],
   "source": [
    "#normal为随机正态分布，loc相当于分布中心，size表示返回随机数个数\n",
    "random_num_list = np.random.normal(loc = 5, size = 20)\n",
    "random_num_list2 = random_num_list + x\n",
    "print(random_num_list2)\n",
    "random_num = random_num_list[:,np.newaxis]\n",
    "testing_num = samples + random_num\n",
    "testing_result = model.predict(testing_num)\n",
    "print(testing_result)"
   ]
  },
  {
   "cell_type": "code",
   "execution_count": 7,
   "metadata": {},
   "outputs": [
    {
     "data": {
      "image/png": "[encoded data removed]",
      "text/plain": [
       "<matplotlib.figure.Figure at 0x22b80051278>"
      ]
     },
     "metadata": {},
     "output_type": "display_data"
    }
   ],
   "source": [
    "%matplotlib inline\n",
    "import matplotlib.pyplot as plt\n",
    "fig = plt.figure(1)\n",
    "x_ = np.linspace(0,20, 10)\n",
    "y_ = x_ *model.coef_ + model.intercept_\n",
    "plt.plot(x, y, 'go')\n",
    "plt.plot(x_, y_, 'r-')\n",
    "plt.scatter(random_num_list2, testing_result)\n",
    "plt.show()"
   ]
  }
 ],
 "metadata": {
  "kernelspec": {
   "display_name": "Python 3",
   "language": "python",
   "name": "python3"
  },
  "language_info": {
   "codemirror_mode": {
    "name": "ipython",
    "version": 3
   },
   "file_extension": ".py",
   "mimetype": "text/x-python",
   "name": "python",
   "nbconvert_exporter": "python",
   "pygments_lexer": "ipython3",
   "version": "3.6.1"
  }
 },
 "nbformat": 4,
 "nbformat_minor": 2
}
